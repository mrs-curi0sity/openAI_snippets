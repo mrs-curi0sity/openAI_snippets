{
 "cells": [
  {
   "cell_type": "code",
   "execution_count": 1,
   "id": "c57647ff-39ed-4036-8f71-ad688c1d38a8",
   "metadata": {
    "tags": []
   },
   "outputs": [],
   "source": [
    "import os\n",
    "import openai"
   ]
  },
  {
   "cell_type": "code",
   "execution_count": 3,
   "id": "e90dcb10-e6d8-45ed-af61-839ae3dc4624",
   "metadata": {
    "tags": []
   },
   "outputs": [],
   "source": [
    "openai.api_key = os.getenv('OPENAI_API_KEY')"
   ]
  },
  {
   "cell_type": "code",
   "execution_count": 14,
   "id": "97a6052f-0d15-42ee-a0bc-d718d259c61c",
   "metadata": {
    "tags": []
   },
   "outputs": [],
   "source": [
    "prompt = \"give me details about the tech startup called i_made_this_name_up dealing with responsible AI\"\n",
    "prompt_certainty = \"only answer if you are 100% sure. If you are unsure, please answer 'I dont know'\" + prompt"
   ]
  },
  {
   "cell_type": "code",
   "execution_count": 70,
   "id": "4b70fe12-649b-4358-a737-57bb4c125a08",
   "metadata": {
    "tags": []
   },
   "outputs": [],
   "source": [
    "def create_test_prompt(topic,num_questions,num_possible_answers, level):\n",
    "    prompt=f\"create a multiple choice quiz, difficulty level: {level}, on the topic {topic} with {num_questions} questions each having {num_possible_answers} number of possible answers. Lets call. please provide the exam in a json format. Then append two functions written in python. The first function should take \"\n",
    "    return prompt"
   ]
  },
  {
   "cell_type": "code",
   "execution_count": 71,
   "id": "9753007c-6c14-4fd4-86a2-ddb16604466e",
   "metadata": {
    "tags": []
   },
   "outputs": [
    {
     "data": {
      "text/plain": [
       "'create a multiple choice quiz, difficulty level: expert, on the topic chatGPT with 2 questions each having 3 number of possible answers. please provide the exam in a json format'"
      ]
     },
     "execution_count": 71,
     "metadata": {},
     "output_type": "execute_result"
    }
   ],
   "source": [
    "prompt = create_test_prompt('chatGPT', 2, 3, 'expert')\n",
    "prompt"
   ]
  },
  {
   "cell_type": "code",
   "execution_count": 72,
   "id": "1dc2a27d-13da-48dc-ab00-6f8af4262d10",
   "metadata": {
    "tags": []
   },
   "outputs": [],
   "source": [
    "response = openai.Completion.create(engine='text-davinci-003',\n",
    "                                    prompt=prompt,\n",
    "                                    max_tokens=256,\n",
    "                                    temperature=0.7)"
   ]
  },
  {
   "cell_type": "code",
   "execution_count": 73,
   "id": "c7fad88c-c343-4438-9fce-cf6b0e9c3c53",
   "metadata": {
    "tags": []
   },
   "outputs": [
    {
     "name": "stdout",
     "output_type": "stream",
     "text": [
      "\n",
      "\n",
      "{\n",
      "    \"questions\": [\n",
      "        {\n",
      "            \"question\": \"What is ChatGPT?\",\n",
      "            \"answers\": [\n",
      "                {\n",
      "                    \"label\": \"A chatbot creation tool\",\n",
      "                    \"correct\": false\n",
      "                },\n",
      "                {\n",
      "                    \"label\": \"A chatbot framework\",\n",
      "                    \"correct\": false\n",
      "                },\n",
      "                {\n",
      "                    \"label\": \"A natural language generation model\",\n",
      "                    \"correct\": true\n",
      "                }\n",
      "            ]\n",
      "        },\n",
      "        {\n",
      "            \"question\": \"How does ChatGPT generate responses?\",\n",
      "            \"answers\": [\n",
      "                {\n",
      "                    \"label\": \"Using pre-defined templates\",\n",
      "                    \"correct\": false\n",
      "                },\n",
      "                {\n",
      "                    \"label\": \"Using deep learning models\",\n",
      "                    \"correct\": false\n",
      "                },\n",
      "                {\n",
      "                    \"label\": \"Using a transformer architecture\",\n",
      "                    \"correct\": true\n",
      "                }\n",
      "            ]\n",
      "        }\n",
      "    ]\n",
      "}\n"
     ]
    }
   ],
   "source": [
    "exam_full_text = response.choices[0].text\n",
    "print(exam_full_text)"
   ]
  },
  {
   "cell_type": "code",
   "execution_count": null,
   "id": "f40cc148-aa82-4939-9de3-40f082667e26",
   "metadata": {},
   "outputs": [],
   "source": []
  }
 ],
 "metadata": {
  "kernelspec": {
   "display_name": "Python 3 (ipykernel)",
   "language": "python",
   "name": "python3"
  },
  "language_info": {
   "codemirror_mode": {
    "name": "ipython",
    "version": 3
   },
   "file_extension": ".py",
   "mimetype": "text/x-python",
   "name": "python",
   "nbconvert_exporter": "python",
   "pygments_lexer": "ipython3",
   "version": "3.11.2"
  }
 },
 "nbformat": 4,
 "nbformat_minor": 5
}
