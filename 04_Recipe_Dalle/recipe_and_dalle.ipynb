{
 "cells": [
  {
   "cell_type": "code",
   "execution_count": 22,
   "id": "43aef2f4-1d02-4973-b08a-e7307db3cc6f",
   "metadata": {
    "tags": []
   },
   "outputs": [],
   "source": [
    "import os\n",
    "import openai\n",
    "import pandas as pd\n",
    "import requests\n",
    "import shutil"
   ]
  },
  {
   "cell_type": "code",
   "execution_count": 3,
   "id": "1d423466-3e09-46c2-878d-86b744c17538",
   "metadata": {
    "tags": []
   },
   "outputs": [],
   "source": [
    "openai.api_key = os.getenv('OPENAI_API_KEY')"
   ]
  },
  {
   "cell_type": "code",
   "execution_count": 5,
   "id": "1f4435b5-aacf-4638-a5f5-d2d83eabf2a2",
   "metadata": {
    "tags": []
   },
   "outputs": [],
   "source": [
    "def create_dish_prompt():\n",
    "    prompt = input(\"was hast du im kühlschrank?\")\n",
    "    return prompt"
   ]
  },
  {
   "cell_type": "code",
   "execution_count": 7,
   "id": "89402ed3-cac3-4342-9846-cd2e12af830c",
   "metadata": {
    "tags": []
   },
   "outputs": [
    {
     "name": "stdin",
     "output_type": "stream",
     "text": [
      "was hast du im kühlschrank? Petersilie, fisch, saft, erdbeeren, zwieback, kleber\n"
     ]
    }
   ],
   "source": [
    "prompt = create_dish_prompt()"
   ]
  },
  {
   "cell_type": "code",
   "execution_count": 8,
   "id": "dc37daa5-5be0-4c02-a152-5826eea9bce4",
   "metadata": {
    "tags": []
   },
   "outputs": [
    {
     "data": {
      "text/plain": [
       "'Petersilie, fisch, saft, erdbeeren, zwieback, kleber'"
      ]
     },
     "execution_count": 8,
     "metadata": {},
     "output_type": "execute_result"
    }
   ],
   "source": [
    "prompt"
   ]
  },
  {
   "cell_type": "code",
   "execution_count": 9,
   "id": "3ccbbf99-175f-41ff-9688-7b3dd8df56d9",
   "metadata": {
    "tags": []
   },
   "outputs": [],
   "source": [
    "def input_for_api():\n",
    "    starter_string=\"please return a recipe for a delicious dish containing the following ingredients: \"\n",
    "    prompt = create_dish_prompt() \n",
    "    return starter_string + prompt"
   ]
  },
  {
   "cell_type": "code",
   "execution_count": null,
   "id": "7db7f6a7-a394-46a4-89b5-1510a48eb053",
   "metadata": {},
   "outputs": [],
   "source": []
  },
  {
   "cell_type": "code",
   "execution_count": null,
   "id": "d9481bf6-4db7-49a9-b047-1d8b5f1598c0",
   "metadata": {},
   "outputs": [],
   "source": [
    "##### TODO ####"
   ]
  },
  {
   "cell_type": "code",
   "execution_count": null,
   "id": "58434672-3a9e-432a-8fca-3474fe271afb",
   "metadata": {},
   "outputs": [],
   "source": []
  },
  {
   "cell_type": "code",
   "execution_count": null,
   "id": "55496e7b-5f59-41d8-823d-72e1d0901dcb",
   "metadata": {},
   "outputs": [],
   "source": []
  },
  {
   "cell_type": "code",
   "execution_count": null,
   "id": "e9450f3e-34cb-49c5-9349-513f30777a44",
   "metadata": {},
   "outputs": [],
   "source": []
  },
  {
   "cell_type": "code",
   "execution_count": 14,
   "id": "1a357db7-84a4-44da-afa2-2b3b9fa97390",
   "metadata": {
    "tags": []
   },
   "outputs": [],
   "source": [
    "image_response=openai.Image.create(\n",
    "    prompt=\"a penguin and super mario\",\n",
    "    n=1,\n",
    "    size='1024x1024'\n",
    ")"
   ]
  },
  {
   "cell_type": "code",
   "execution_count": 15,
   "id": "d0dc19d8-5d3e-4ac3-90b3-eac67d288f44",
   "metadata": {
    "tags": []
   },
   "outputs": [
    {
     "data": {
      "text/plain": [
       "<OpenAIObject at 0x1295abb90> JSON: {\n",
       "  \"created\": 1698353091,\n",
       "  \"data\": [\n",
       "    {\n",
       "      \"url\": \"https://oaidalleapiprodscus.blob.core.windows.net/private/org-E2pWxpOdcMF9pge5RnoCjpx0/user-mFeiLCnrA9kafo9OPzEZfVuK/img-T4BJDY3G6PUuu1z7t9rkoDsF.png?st=2023-10-26T19%3A44%3A51Z&se=2023-10-26T21%3A44%3A51Z&sp=r&sv=2021-08-06&sr=b&rscd=inline&rsct=image/png&skoid=6aaadede-4fb3-4698-a8f6-684d7786b067&sktid=a48cca56-e6da-484e-a814-9c849652bcb3&skt=2023-10-26T20%3A44%3A51Z&ske=2023-10-27T20%3A44%3A51Z&sks=b&skv=2021-08-06&sig=Kp4hhW8GkRk/J4bbyhWsnRWo3MvshncGY/BqEgXcmls%3D\"\n",
       "    }\n",
       "  ]\n",
       "}"
      ]
     },
     "execution_count": 15,
     "metadata": {},
     "output_type": "execute_result"
    }
   ],
   "source": [
    "image_response"
   ]
  },
  {
   "cell_type": "code",
   "execution_count": 18,
   "id": "33b1272f-eba9-4b4f-a3c6-0740c37c3801",
   "metadata": {
    "tags": []
   },
   "outputs": [
    {
     "data": {
      "text/plain": [
       "'https://oaidalleapiprodscus.blob.core.windows.net/private/org-E2pWxpOdcMF9pge5RnoCjpx0/user-mFeiLCnrA9kafo9OPzEZfVuK/img-T4BJDY3G6PUuu1z7t9rkoDsF.png?st=2023-10-26T19%3A44%3A51Z&se=2023-10-26T21%3A44%3A51Z&sp=r&sv=2021-08-06&sr=b&rscd=inline&rsct=image/png&skoid=6aaadede-4fb3-4698-a8f6-684d7786b067&sktid=a48cca56-e6da-484e-a814-9c849652bcb3&skt=2023-10-26T20%3A44%3A51Z&ske=2023-10-27T20%3A44%3A51Z&sks=b&skv=2021-08-06&sig=Kp4hhW8GkRk/J4bbyhWsnRWo3MvshncGY/BqEgXcmls%3D'"
      ]
     },
     "execution_count": 18,
     "metadata": {},
     "output_type": "execute_result"
    }
   ],
   "source": [
    "image_url = image_response['data'][0]['url']\n",
    "image_url"
   ]
  },
  {
   "cell_type": "code",
   "execution_count": 25,
   "id": "4471b318-9d2b-4310-b098-cdae22999601",
   "metadata": {
    "tags": []
   },
   "outputs": [],
   "source": [
    "def save_image(image_url, file_name):\n",
    "    image_res=requests.get(image_url, stream=True)\n",
    "    if image_res.status_code==200:\n",
    "        with open (file_name, 'wb') as f:\n",
    "            shutil.copyfileobj(image_res.raw, f)\n",
    "    else:\n",
    "        print(\"error loading page\")"
   ]
  },
  {
   "cell_type": "code",
   "execution_count": 26,
   "id": "2c98d37b-f043-4b04-9067-0fdf899884cd",
   "metadata": {
    "tags": []
   },
   "outputs": [],
   "source": [
    "save_image(image_url, 'my_fancy_image.png')"
   ]
  },
  {
   "cell_type": "code",
   "execution_count": null,
   "id": "2e9e0eb1-4dd9-47c6-bc4f-ff3fb0ce7018",
   "metadata": {},
   "outputs": [],
   "source": []
  }
 ],
 "metadata": {
  "kernelspec": {
   "display_name": "Python 3 (ipykernel)",
   "language": "python",
   "name": "python3"
  },
  "language_info": {
   "codemirror_mode": {
    "name": "ipython",
    "version": 3
   },
   "file_extension": ".py",
   "mimetype": "text/x-python",
   "name": "python",
   "nbconvert_exporter": "python",
   "pygments_lexer": "ipython3",
   "version": "3.11.2"
  }
 },
 "nbformat": 4,
 "nbformat_minor": 5
}
