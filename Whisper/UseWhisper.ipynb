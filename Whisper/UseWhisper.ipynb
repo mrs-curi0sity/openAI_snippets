{
 "cells": [
  {
   "cell_type": "code",
   "execution_count": 1,
   "id": "b4763b06-9c60-46e7-a4ce-b6fd67bb2ec2",
   "metadata": {
    "tags": []
   },
   "outputs": [],
   "source": [
    "import os\n",
    "import openai\n",
    "openai.api_key = os.getenv('OPENAI_API_KEY')"
   ]
  },
  {
   "cell_type": "code",
   "execution_count": 4,
   "id": "4ee3025a-08e5-481f-8ccd-a85ef0ee22c4",
   "metadata": {
    "tags": []
   },
   "outputs": [],
   "source": [
    "audio_file = open('Warren_Buffet.mp3', 'rb')"
   ]
  },
  {
   "cell_type": "code",
   "execution_count": 5,
   "id": "2e613e0d-45bd-4ef7-aadd-a5030fbe637d",
   "metadata": {
    "tags": []
   },
   "outputs": [],
   "source": [
    "transcript = openai.Audio.transcribe('whisper-1', audio_file)"
   ]
  },
  {
   "cell_type": "code",
   "execution_count": 6,
   "id": "8d78dbf6-8690-4923-8e31-ea84c81e7047",
   "metadata": {
    "tags": []
   },
   "outputs": [
    {
     "data": {
      "text/plain": [
       "openai.openai_object.OpenAIObject"
      ]
     },
     "execution_count": 6,
     "metadata": {},
     "output_type": "execute_result"
    }
   ],
   "source": [
    "type(transcript)"
   ]
  },
  {
   "cell_type": "code",
   "execution_count": 8,
   "id": "a14cc43d-78b8-4fbe-8e59-bc04d63da125",
   "metadata": {
    "tags": []
   },
   "outputs": [],
   "source": [
    "warren_buffet_long_text = transcript['text']"
   ]
  },
  {
   "cell_type": "code",
   "execution_count": 10,
   "id": "9b459040-ff86-4167-8345-78f9d64d6fba",
   "metadata": {
    "tags": []
   },
   "outputs": [],
   "source": [
    "response = openai.ChatCompletion.create(\n",
    "    model='gpt-3.5-turbo',\n",
    "    messages=[\n",
    "        {'role':'system',\n",
    "         'content':'You are good at creating bullet point summaries and have knowledge of Warren Buffet'\n",
    "\n",
    "        },\n",
    "        {'role':'user',\n",
    "         'content':f'summarize the following\\n {warren_buffet_long_text}'\n",
    "        }\n",
    "    ]\n",
    ")"
   ]
  },
  {
   "cell_type": "code",
   "execution_count": 15,
   "id": "ba016c24-6c26-43bb-b8d7-2b15a1ed0bfc",
   "metadata": {
    "tags": []
   },
   "outputs": [
    {
     "name": "stdout",
     "output_type": "stream",
     "text": [
      "- Warren Buffet receives letters from people who have been taken advantage of in financial transactions.\n",
      "- He believes that many financial transactions involve high charges and baloney.\n",
      "- Buffet and Charlie have been successful in buying businesses and trusting people, but they filter out a lot of individuals.\n",
      "- They look for clues in how people talk about their businesses to assess their trustworthiness.\n",
      "- Buffet mentions an experience where an insurance claim was denied, but Charlie cleverly negotiated and got the claim approved.\n",
      "- They cannot identify all frauds, but certain people give themselves away through their behavior.\n",
      "- When buying businesses, they assess the individuals running them to ensure they will continue to run the business well.\n",
      "- Buffet has seen fraudulent activities in financial statements and can spot people playing games with numbers.\n",
      "- He shares examples of deceptive accounting practices and manipulation of projections.\n",
      "- Buffet acknowledges that the investment world involves accounting games and emphasizes the need for caution and skepticism.\n"
     ]
    }
   ],
   "source": [
    "print(response['choices'][0]['message']['content'])"
   ]
  },
  {
   "cell_type": "code",
   "execution_count": null,
   "id": "62d478dc-74a5-4f20-a9ea-efb92199fba2",
   "metadata": {},
   "outputs": [],
   "source": []
  }
 ],
 "metadata": {
  "kernelspec": {
   "display_name": "Python 3 (ipykernel)",
   "language": "python",
   "name": "python3"
  },
  "language_info": {
   "codemirror_mode": {
    "name": "ipython",
    "version": 3
   },
   "file_extension": ".py",
   "mimetype": "text/x-python",
   "name": "python",
   "nbconvert_exporter": "python",
   "pygments_lexer": "ipython3",
   "version": "3.11.2"
  }
 },
 "nbformat": 4,
 "nbformat_minor": 5
}
